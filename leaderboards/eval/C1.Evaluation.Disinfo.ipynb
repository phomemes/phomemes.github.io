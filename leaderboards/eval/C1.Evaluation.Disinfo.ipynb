{
 "cells": [
  {
   "cell_type": "code",
   "execution_count": null,
   "id": "bbbb6245",
   "metadata": {},
   "outputs": [],
   "source": [
    "# --------------------------------------------------\n",
    "# PhoMemes 2023 Evaluation Script\n",
    "#  - For Disinformation Challenge Evaluation\n",
    "#\n",
    "# Used to evaluate PhoMeme challenge submission for\n",
    "#. influence campaigns\n",
    "# --------------------------------------------------\n",
    "version = 1.0 # Notebook Version Number\n",
    "edition = \"c1\"\n",
    "\n",
    "import os\n",
    "cwd = os.getcwd()"
   ]
  },
  {
   "cell_type": "code",
   "execution_count": null,
   "id": "34744aa0",
   "metadata": {},
   "outputs": [],
   "source": []
  },
  {
   "cell_type": "code",
   "execution_count": null,
   "id": "863e6e64",
   "metadata": {},
   "outputs": [],
   "source": [
    "import json\n",
    "\n",
    "import numpy as np\n",
    "import pandas as pd\n",
    "\n",
    "from sklearn.metrics import precision_score\n",
    "from sklearn.metrics import recall_score\n",
    "from sklearn.metrics import f1_score\n",
    "from sklearn.metrics import accuracy_score"
   ]
  },
  {
   "cell_type": "code",
   "execution_count": null,
   "id": "1f50f160",
   "metadata": {},
   "outputs": [],
   "source": []
  },
  {
   "cell_type": "code",
   "execution_count": null,
   "id": "63892d75",
   "metadata": {},
   "outputs": [],
   "source": [
    "model_info = None\n",
    "with open(\"metadata.json\", \"r\") as in_file:\n",
    "    model_info = json.load(in_file)\n",
    "    \n",
    "model_info"
   ]
  },
  {
   "cell_type": "code",
   "execution_count": null,
   "id": "4790842a",
   "metadata": {},
   "outputs": [],
   "source": []
  },
  {
   "cell_type": "code",
   "execution_count": null,
   "id": "d792cd33",
   "metadata": {},
   "outputs": [],
   "source": [
    "groundtruth_df = pd.read_csv(\"c1.groundtruth.csv\", index_col=\"encoded_id\")\n",
    "run_df = pd.read_csv(\"run.csv\", index_col=\"user_id\")"
   ]
  },
  {
   "cell_type": "code",
   "execution_count": null,
   "id": "6f1824cd",
   "metadata": {},
   "outputs": [],
   "source": []
  },
  {
   "cell_type": "code",
   "execution_count": null,
   "id": "866d68e5",
   "metadata": {},
   "outputs": [],
   "source": [
    "joined_df = run_df.join(groundtruth_df, how=\"inner\", lsuffix=\"_pred\", rsuffix=\"_truth\")"
   ]
  },
  {
   "cell_type": "code",
   "execution_count": null,
   "id": "fddc8998",
   "metadata": {},
   "outputs": [],
   "source": []
  },
  {
   "cell_type": "code",
   "execution_count": null,
   "id": "3323c510",
   "metadata": {},
   "outputs": [],
   "source": [
    "joined_df.columns"
   ]
  },
  {
   "cell_type": "code",
   "execution_count": null,
   "id": "5a54bb8f",
   "metadata": {},
   "outputs": [],
   "source": [
    "disinfo_agent_prediction = [True if a == 1 else False for a in joined_df[\"inauthentic_pred\"]]\n",
    "disinfo_agent_truth = [True if a == 1 else False for a in joined_df[\"inauthentic_truth\"]]\n",
    "\n",
    "ac_score_overall = accuracy_score(disinfo_agent_prediction, disinfo_agent_truth)\n",
    "pr_score_overall = precision_score(disinfo_agent_prediction, disinfo_agent_truth)\n",
    "rc_score_overall = recall_score(disinfo_agent_prediction, disinfo_agent_truth)\n",
    "\n",
    "f1_score_overall = f1_score(disinfo_agent_prediction, disinfo_agent_truth, zero_division=1)"
   ]
  },
  {
   "cell_type": "code",
   "execution_count": null,
   "id": "4a2d982b",
   "metadata": {},
   "outputs": [],
   "source": []
  },
  {
   "cell_type": "code",
   "execution_count": null,
   "id": "211a9aeb",
   "metadata": {},
   "outputs": [],
   "source": [
    "print(\"Accuracy:\", ac_score_overall)\n",
    "print(\"Precision:\", pr_score_overall)\n",
    "print(\"Recall:\", rc_score_overall)\n",
    "print(\"F1:\", f1_score_overall)"
   ]
  },
  {
   "cell_type": "code",
   "execution_count": null,
   "id": "8897ed27",
   "metadata": {},
   "outputs": [],
   "source": []
  },
  {
   "cell_type": "code",
   "execution_count": null,
   "id": "79ce6d70",
   "metadata": {},
   "outputs": [],
   "source": [
    "acs = []\n",
    "prs = []\n",
    "rcs = []\n",
    "f1s = []\n",
    "\n",
    "for i,j in joined_df[\"campaign_truth\"].value_counts().items():\n",
    "    print(i,j)\n",
    "    \n",
    "    this_pred = joined_df['campaign_pred'] == i\n",
    "    this_true = joined_df['campaign_truth'] == i\n",
    "    \n",
    "    ac_score_this = accuracy_score(this_pred, this_true)\n",
    "    acs.append(ac_score_this)\n",
    "    \n",
    "    pr_score_this = precision_score(this_pred, this_true, zero_division=0)\n",
    "    prs.append(pr_score_this)\n",
    "    \n",
    "    rc_score_this = recall_score(this_pred, this_true, zero_division=0)\n",
    "    rcs.append(rc_score_this)\n",
    "    \n",
    "    f1_score_this = f1_score(this_pred, this_true, zero_division=0)\n",
    "    f1s.append(f1_score_this)\n",
    "    \n",
    "    print(\"[%s] Ac:\" % i, ac_score_this)\n",
    "    print(\"[%s] Pr:\" % i, pr_score_this)\n",
    "    print(\"[%s] Rc:\" % i, rc_score_this)\n",
    "    print(\"[%s] F1:\" % i, f1_score_this)\n",
    "    \n",
    "    print(\"*\" * 20)\n",
    "    "
   ]
  },
  {
   "cell_type": "code",
   "execution_count": null,
   "id": "177760f9",
   "metadata": {},
   "outputs": [],
   "source": []
  },
  {
   "cell_type": "code",
   "execution_count": null,
   "id": "17f8bf67",
   "metadata": {},
   "outputs": [],
   "source": [
    "ac_mean = np.mean(acs)\n",
    "pr_mean = np.mean(prs)\n",
    "rc_mean = np.mean(rcs)\n",
    "f1_mean = np.mean(f1s)\n",
    "\n",
    "print(\"Macro-Average Ac:\", ac_mean)\n",
    "print(\"Macro-Average Pr:\", pr_mean)\n",
    "print(\"Macro-Average Rc:\", rc_mean)\n",
    "print(\"Macro-Average F1:\", f1_mean)"
   ]
  },
  {
   "cell_type": "code",
   "execution_count": null,
   "id": "76002a64",
   "metadata": {},
   "outputs": [],
   "source": []
  },
  {
   "cell_type": "code",
   "execution_count": null,
   "id": "85588106",
   "metadata": {},
   "outputs": [],
   "source": [
    "sub_date_ = cwd.partition(\"submissions/\")[-1].partition(\"/\")[-1]\n",
    "sub_date_ = sub_date_.partition(\"-\")[0]\n",
    "sub_date = \"%s/%s/%s\" % (sub_date_[:4], sub_date_[4:6], sub_date_[6:])\n"
   ]
  },
  {
   "cell_type": "code",
   "execution_count": null,
   "id": "d9d1c958",
   "metadata": {},
   "outputs": [],
   "source": []
  },
  {
   "cell_type": "code",
   "execution_count": null,
   "id": "8a999c32",
   "metadata": {},
   "outputs": [],
   "source": [
    "rows = [{\n",
    "    \"runtag\": \"%s-%s-%s\" % (model_info[\"organization\"], model_info[\"runtag\"], model_info[\"date\"]),\n",
    "    \"date\": sub_date,\n",
    "    \"organization\": model_info[\"organization\"],\n",
    "    \"model_description\": model_info[\"model_description\"],\n",
    "    \"type\": model_info[\"type\"],\n",
    "    \"paper\": model_info[\"paper\"],\n",
    "    \"code\": model_info[\"code\"],\n",
    "    \"accuracy_overall\": ac_score_overall,\n",
    "    \"precision_overall\": pr_score_overall,\n",
    "    \"recall_overall\": rc_score_overall,\n",
    "    \"f1_overall\": f1_score_overall,\n",
    "    \"accuracy_macro\": ac_mean,\n",
    "    \"precision_macro\": pr_mean,\n",
    "    \"recall_macro\": rc_mean,\n",
    "    \"f1_macro\": f1_mean,\n",
    "}]\n",
    "\n",
    "leaderboard_df = pd.DataFrame(rows).set_index(\"runtag\")\n",
    "leaderboard_df"
   ]
  },
  {
   "cell_type": "code",
   "execution_count": null,
   "id": "9ceb8a18",
   "metadata": {},
   "outputs": [],
   "source": []
  },
  {
   "cell_type": "code",
   "execution_count": null,
   "id": "74440688",
   "metadata": {},
   "outputs": [],
   "source": [
    "leaderboard_df.to_csv(\"leaderboard.csv\")"
   ]
  },
  {
   "cell_type": "code",
   "execution_count": null,
   "id": "53d747fa",
   "metadata": {},
   "outputs": [],
   "source": []
  }
 ],
 "metadata": {
  "kernelspec": {
   "display_name": "Python 3 (ipykernel)",
   "language": "python",
   "name": "python3"
  },
  "language_info": {
   "codemirror_mode": {
    "name": "ipython",
    "version": 3
   },
   "file_extension": ".py",
   "mimetype": "text/x-python",
   "name": "python",
   "nbconvert_exporter": "python",
   "pygments_lexer": "ipython3",
   "version": "3.9.12"
  }
 },
 "nbformat": 4,
 "nbformat_minor": 5
}
